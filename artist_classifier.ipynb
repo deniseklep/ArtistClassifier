{
 "cells": [
  {
   "cell_type": "markdown",
   "metadata": {},
   "source": [
    "# Data exploration"
   ]
  },
  {
   "cell_type": "code",
   "execution_count": 1,
   "metadata": {},
   "outputs": [],
   "source": [
    "import pandas as pd\n",
    "import numpy as np\n",
    "import matplotlib.pyplot as plt\n",
    "import os\n",
    "from tensorflow import keras"
   ]
  },
  {
   "cell_type": "code",
   "execution_count": 2,
   "metadata": {},
   "outputs": [
    {
     "data": {
      "text/html": [
       "<div>\n",
       "<style scoped>\n",
       "    .dataframe tbody tr th:only-of-type {\n",
       "        vertical-align: middle;\n",
       "    }\n",
       "\n",
       "    .dataframe tbody tr th {\n",
       "        vertical-align: top;\n",
       "    }\n",
       "\n",
       "    .dataframe thead th {\n",
       "        text-align: right;\n",
       "    }\n",
       "</style>\n",
       "<table border=\"1\" class=\"dataframe\">\n",
       "  <thead>\n",
       "    <tr style=\"text-align: right;\">\n",
       "      <th></th>\n",
       "      <th>id</th>\n",
       "      <th>paintings</th>\n",
       "    </tr>\n",
       "  </thead>\n",
       "  <tbody>\n",
       "    <tr>\n",
       "      <th>count</th>\n",
       "      <td>50.00000</td>\n",
       "      <td>50.000000</td>\n",
       "    </tr>\n",
       "    <tr>\n",
       "      <th>mean</th>\n",
       "      <td>24.50000</td>\n",
       "      <td>168.920000</td>\n",
       "    </tr>\n",
       "    <tr>\n",
       "      <th>std</th>\n",
       "      <td>14.57738</td>\n",
       "      <td>157.451105</td>\n",
       "    </tr>\n",
       "    <tr>\n",
       "      <th>min</th>\n",
       "      <td>0.00000</td>\n",
       "      <td>24.000000</td>\n",
       "    </tr>\n",
       "    <tr>\n",
       "      <th>25%</th>\n",
       "      <td>12.25000</td>\n",
       "      <td>81.000000</td>\n",
       "    </tr>\n",
       "    <tr>\n",
       "      <th>50%</th>\n",
       "      <td>24.50000</td>\n",
       "      <td>123.000000</td>\n",
       "    </tr>\n",
       "    <tr>\n",
       "      <th>75%</th>\n",
       "      <td>36.75000</td>\n",
       "      <td>191.750000</td>\n",
       "    </tr>\n",
       "    <tr>\n",
       "      <th>max</th>\n",
       "      <td>49.00000</td>\n",
       "      <td>877.000000</td>\n",
       "    </tr>\n",
       "  </tbody>\n",
       "</table>\n",
       "</div>"
      ],
      "text/plain": [
       "             id   paintings\n",
       "count  50.00000   50.000000\n",
       "mean   24.50000  168.920000\n",
       "std    14.57738  157.451105\n",
       "min     0.00000   24.000000\n",
       "25%    12.25000   81.000000\n",
       "50%    24.50000  123.000000\n",
       "75%    36.75000  191.750000\n",
       "max    49.00000  877.000000"
      ]
     },
     "execution_count": 2,
     "metadata": {},
     "output_type": "execute_result"
    }
   ],
   "source": [
    "dir_images = './data/images/images'\n",
    "artists = pd.read_csv('./data/artists.csv')\n",
    "dir_artists = os.listdir(dir_images)\n",
    "artists.describe()"
   ]
  },
  {
   "cell_type": "code",
   "execution_count": 3,
   "metadata": {},
   "outputs": [
    {
     "data": {
      "text/html": [
       "<div>\n",
       "<style scoped>\n",
       "    .dataframe tbody tr th:only-of-type {\n",
       "        vertical-align: middle;\n",
       "    }\n",
       "\n",
       "    .dataframe tbody tr th {\n",
       "        vertical-align: top;\n",
       "    }\n",
       "\n",
       "    .dataframe thead th {\n",
       "        text-align: right;\n",
       "    }\n",
       "</style>\n",
       "<table border=\"1\" class=\"dataframe\">\n",
       "  <thead>\n",
       "    <tr style=\"text-align: right;\">\n",
       "      <th></th>\n",
       "      <th>id</th>\n",
       "      <th>name</th>\n",
       "      <th>years</th>\n",
       "      <th>genre</th>\n",
       "      <th>nationality</th>\n",
       "      <th>bio</th>\n",
       "      <th>wikipedia</th>\n",
       "      <th>paintings</th>\n",
       "    </tr>\n",
       "  </thead>\n",
       "  <tbody>\n",
       "    <tr>\n",
       "      <th>0</th>\n",
       "      <td>0</td>\n",
       "      <td>Amedeo Modigliani</td>\n",
       "      <td>1884 - 1920</td>\n",
       "      <td>Expressionism</td>\n",
       "      <td>Italian</td>\n",
       "      <td>Amedeo Clemente Modigliani (Italian pronunciat...</td>\n",
       "      <td>http://en.wikipedia.org/wiki/Amedeo_Modigliani</td>\n",
       "      <td>193</td>\n",
       "    </tr>\n",
       "    <tr>\n",
       "      <th>1</th>\n",
       "      <td>1</td>\n",
       "      <td>Vasiliy Kandinskiy</td>\n",
       "      <td>1866 - 1944</td>\n",
       "      <td>Expressionism,Abstractionism</td>\n",
       "      <td>Russian</td>\n",
       "      <td>Wassily Wassilyevich Kandinsky (Russian: Васи́...</td>\n",
       "      <td>http://en.wikipedia.org/wiki/Wassily_Kandinsky</td>\n",
       "      <td>88</td>\n",
       "    </tr>\n",
       "    <tr>\n",
       "      <th>2</th>\n",
       "      <td>2</td>\n",
       "      <td>Diego Rivera</td>\n",
       "      <td>1886 - 1957</td>\n",
       "      <td>Social Realism,Muralism</td>\n",
       "      <td>Mexican</td>\n",
       "      <td>Diego María de la Concepción Juan Nepomuceno E...</td>\n",
       "      <td>http://en.wikipedia.org/wiki/Diego_Rivera</td>\n",
       "      <td>70</td>\n",
       "    </tr>\n",
       "    <tr>\n",
       "      <th>3</th>\n",
       "      <td>3</td>\n",
       "      <td>Claude Monet</td>\n",
       "      <td>1840 - 1926</td>\n",
       "      <td>Impressionism</td>\n",
       "      <td>French</td>\n",
       "      <td>Oscar-Claude Monet (; French: [klod mɔnɛ]; 14 ...</td>\n",
       "      <td>http://en.wikipedia.org/wiki/Claude_Monet</td>\n",
       "      <td>73</td>\n",
       "    </tr>\n",
       "    <tr>\n",
       "      <th>4</th>\n",
       "      <td>4</td>\n",
       "      <td>Rene Magritte</td>\n",
       "      <td>1898 - 1967</td>\n",
       "      <td>Surrealism,Impressionism</td>\n",
       "      <td>Belgian</td>\n",
       "      <td>René François Ghislain Magritte (French: [ʁəne...</td>\n",
       "      <td>http://en.wikipedia.org/wiki/René_Magritte</td>\n",
       "      <td>194</td>\n",
       "    </tr>\n",
       "    <tr>\n",
       "      <th>5</th>\n",
       "      <td>5</td>\n",
       "      <td>Salvador Dali</td>\n",
       "      <td>1904 - 1989</td>\n",
       "      <td>Surrealism</td>\n",
       "      <td>Spanish</td>\n",
       "      <td>Salvador Domingo Felipe Jacinto Dalí i Domènec...</td>\n",
       "      <td>http://en.wikipedia.org/wiki/Salvador_Dalí</td>\n",
       "      <td>139</td>\n",
       "    </tr>\n",
       "    <tr>\n",
       "      <th>6</th>\n",
       "      <td>6</td>\n",
       "      <td>Edouard Manet</td>\n",
       "      <td>1832 - 1883</td>\n",
       "      <td>Realism,Impressionism</td>\n",
       "      <td>French</td>\n",
       "      <td>Édouard Manet (US: ; UK: ; French: [edwaʁ manɛ...</td>\n",
       "      <td>http://en.wikipedia.org/wiki/Édouard_Manet</td>\n",
       "      <td>90</td>\n",
       "    </tr>\n",
       "    <tr>\n",
       "      <th>7</th>\n",
       "      <td>7</td>\n",
       "      <td>Andrei Rublev</td>\n",
       "      <td>1360 - 1430</td>\n",
       "      <td>Byzantine Art</td>\n",
       "      <td>Russian</td>\n",
       "      <td>Andrei Rublev (Russian: Андре́й Рублёв, IPA: [...</td>\n",
       "      <td>http://en.wikipedia.org/wiki/Andrei_Rublev</td>\n",
       "      <td>99</td>\n",
       "    </tr>\n",
       "    <tr>\n",
       "      <th>8</th>\n",
       "      <td>8</td>\n",
       "      <td>Vincent van Gogh</td>\n",
       "      <td>1853 – 1890</td>\n",
       "      <td>Post-Impressionism</td>\n",
       "      <td>Dutch</td>\n",
       "      <td>Vincent Willem van Gogh (Dutch: [ˈvɪnsɛnt ˈʋɪl...</td>\n",
       "      <td>http://en.wikipedia.org/wiki/Vincent_van_Gogh</td>\n",
       "      <td>877</td>\n",
       "    </tr>\n",
       "    <tr>\n",
       "      <th>9</th>\n",
       "      <td>9</td>\n",
       "      <td>Gustav Klimt</td>\n",
       "      <td>1862 - 1918</td>\n",
       "      <td>Symbolism,Art Nouveau</td>\n",
       "      <td>Austrian</td>\n",
       "      <td>Gustav Klimt (July 14, 1862 – February 6, 1918...</td>\n",
       "      <td>http://en.wikipedia.org/wiki/Gustav_Klimt</td>\n",
       "      <td>117</td>\n",
       "    </tr>\n",
       "    <tr>\n",
       "      <th>10</th>\n",
       "      <td>10</td>\n",
       "      <td>Hieronymus Bosch</td>\n",
       "      <td>1450 - 1516</td>\n",
       "      <td>Northern Renaissance</td>\n",
       "      <td>Dutch</td>\n",
       "      <td>Hieronymus Bosch ( (listen); Dutch: [ɦijeːˈroː...</td>\n",
       "      <td>http://en.wikipedia.org/wiki/Hieronymus_Bosch</td>\n",
       "      <td>137</td>\n",
       "    </tr>\n",
       "    <tr>\n",
       "      <th>11</th>\n",
       "      <td>11</td>\n",
       "      <td>Kazimir Malevich</td>\n",
       "      <td>1879 - 1935</td>\n",
       "      <td>Suprematism</td>\n",
       "      <td>Russian</td>\n",
       "      <td>Kazimir Severinovich Malevich (February 23 [O....</td>\n",
       "      <td>http://en.wikipedia.org/wiki/Kazimir_Malevich</td>\n",
       "      <td>126</td>\n",
       "    </tr>\n",
       "    <tr>\n",
       "      <th>12</th>\n",
       "      <td>12</td>\n",
       "      <td>Mikhail Vrubel</td>\n",
       "      <td>1856 - 1910</td>\n",
       "      <td>Symbolism</td>\n",
       "      <td>Russian</td>\n",
       "      <td>Mikhail Aleksandrovich Vrubel (Russian: Михаи́...</td>\n",
       "      <td>http://en.wikipedia.org/wiki/Mikhail_Vrubel</td>\n",
       "      <td>171</td>\n",
       "    </tr>\n",
       "    <tr>\n",
       "      <th>13</th>\n",
       "      <td>13</td>\n",
       "      <td>Pablo Picasso</td>\n",
       "      <td>1881 - 1973</td>\n",
       "      <td>Cubism</td>\n",
       "      <td>Spanish</td>\n",
       "      <td>Pablo Ruiz Picasso (; Spanish: [ˈpaβlo piˈkaso...</td>\n",
       "      <td>http://en.wikipedia.org/wiki/Pablo_Picasso</td>\n",
       "      <td>439</td>\n",
       "    </tr>\n",
       "    <tr>\n",
       "      <th>14</th>\n",
       "      <td>14</td>\n",
       "      <td>Peter Paul Rubens</td>\n",
       "      <td>1577 - 1640</td>\n",
       "      <td>Baroque</td>\n",
       "      <td>Flemish</td>\n",
       "      <td>Sir Peter Paul Rubens (; Dutch: [ˈrybə(n)s]; 2...</td>\n",
       "      <td>http://en.wikipedia.org/wiki/Peter_Paul_Rubens</td>\n",
       "      <td>141</td>\n",
       "    </tr>\n",
       "    <tr>\n",
       "      <th>15</th>\n",
       "      <td>15</td>\n",
       "      <td>Pierre-Auguste Renoir</td>\n",
       "      <td>1841 - 1919</td>\n",
       "      <td>Impressionism</td>\n",
       "      <td>French</td>\n",
       "      <td>Pierre-Auguste Renoir, commonly known as Augus...</td>\n",
       "      <td>http://en.wikipedia.org/wiki/Pierre-Auguste_Re...</td>\n",
       "      <td>336</td>\n",
       "    </tr>\n",
       "    <tr>\n",
       "      <th>16</th>\n",
       "      <td>16</td>\n",
       "      <td>Francisco Goya</td>\n",
       "      <td>1746 - 1828</td>\n",
       "      <td>Romanticism</td>\n",
       "      <td>Spanish</td>\n",
       "      <td>Francisco José de Goya y Lucientes (; Spanish:...</td>\n",
       "      <td>http://en.wikipedia.org/wiki/Francisco_Goya</td>\n",
       "      <td>291</td>\n",
       "    </tr>\n",
       "    <tr>\n",
       "      <th>17</th>\n",
       "      <td>17</td>\n",
       "      <td>Frida Kahlo</td>\n",
       "      <td>1907 - 1954</td>\n",
       "      <td>Primitivism,Surrealism</td>\n",
       "      <td>Mexican</td>\n",
       "      <td>Frida Kahlo de Rivera (Spanish pronunciation: ...</td>\n",
       "      <td>http://en.wikipedia.org/wiki/Frida_Kahlo</td>\n",
       "      <td>120</td>\n",
       "    </tr>\n",
       "    <tr>\n",
       "      <th>18</th>\n",
       "      <td>18</td>\n",
       "      <td>El Greco</td>\n",
       "      <td>1541 - 1614</td>\n",
       "      <td>Mannerism</td>\n",
       "      <td>Spanish,Greek</td>\n",
       "      <td>Doménikos Theotokópoulos (Greek: Δομήνικος Θεο...</td>\n",
       "      <td>http://en.wikipedia.org/wiki/El_Greco</td>\n",
       "      <td>87</td>\n",
       "    </tr>\n",
       "    <tr>\n",
       "      <th>19</th>\n",
       "      <td>19</td>\n",
       "      <td>Albrecht Dürer</td>\n",
       "      <td>1471 - 1528</td>\n",
       "      <td>Northern Renaissance</td>\n",
       "      <td>German</td>\n",
       "      <td>Albrecht Dürer (; German: [ˈʔalbʁɛçt ˈdyːʁɐ]; ...</td>\n",
       "      <td>http://en.wikipedia.org/wiki/Albrecht_Dürer</td>\n",
       "      <td>328</td>\n",
       "    </tr>\n",
       "  </tbody>\n",
       "</table>\n",
       "</div>"
      ],
      "text/plain": [
       "    id                   name        years                         genre  \\\n",
       "0    0      Amedeo Modigliani  1884 - 1920                 Expressionism   \n",
       "1    1     Vasiliy Kandinskiy  1866 - 1944  Expressionism,Abstractionism   \n",
       "2    2           Diego Rivera  1886 - 1957       Social Realism,Muralism   \n",
       "3    3           Claude Monet  1840 - 1926                 Impressionism   \n",
       "4    4          Rene Magritte  1898 - 1967      Surrealism,Impressionism   \n",
       "5    5          Salvador Dali  1904 - 1989                    Surrealism   \n",
       "6    6          Edouard Manet  1832 - 1883         Realism,Impressionism   \n",
       "7    7          Andrei Rublev  1360 - 1430                 Byzantine Art   \n",
       "8    8       Vincent van Gogh  1853 – 1890            Post-Impressionism   \n",
       "9    9           Gustav Klimt  1862 - 1918         Symbolism,Art Nouveau   \n",
       "10  10       Hieronymus Bosch  1450 - 1516          Northern Renaissance   \n",
       "11  11       Kazimir Malevich  1879 - 1935                   Suprematism   \n",
       "12  12         Mikhail Vrubel  1856 - 1910                     Symbolism   \n",
       "13  13          Pablo Picasso  1881 - 1973                        Cubism   \n",
       "14  14      Peter Paul Rubens  1577 - 1640                       Baroque   \n",
       "15  15  Pierre-Auguste Renoir  1841 - 1919                 Impressionism   \n",
       "16  16         Francisco Goya  1746 - 1828                   Romanticism   \n",
       "17  17            Frida Kahlo  1907 - 1954        Primitivism,Surrealism   \n",
       "18  18               El Greco  1541 - 1614                     Mannerism   \n",
       "19  19         Albrecht Dürer  1471 - 1528          Northern Renaissance   \n",
       "\n",
       "      nationality                                                bio  \\\n",
       "0         Italian  Amedeo Clemente Modigliani (Italian pronunciat...   \n",
       "1         Russian  Wassily Wassilyevich Kandinsky (Russian: Васи́...   \n",
       "2         Mexican  Diego María de la Concepción Juan Nepomuceno E...   \n",
       "3          French  Oscar-Claude Monet (; French: [klod mɔnɛ]; 14 ...   \n",
       "4         Belgian  René François Ghislain Magritte (French: [ʁəne...   \n",
       "5         Spanish  Salvador Domingo Felipe Jacinto Dalí i Domènec...   \n",
       "6          French  Édouard Manet (US: ; UK: ; French: [edwaʁ manɛ...   \n",
       "7         Russian  Andrei Rublev (Russian: Андре́й Рублёв, IPA: [...   \n",
       "8           Dutch  Vincent Willem van Gogh (Dutch: [ˈvɪnsɛnt ˈʋɪl...   \n",
       "9        Austrian  Gustav Klimt (July 14, 1862 – February 6, 1918...   \n",
       "10          Dutch  Hieronymus Bosch ( (listen); Dutch: [ɦijeːˈroː...   \n",
       "11        Russian  Kazimir Severinovich Malevich (February 23 [O....   \n",
       "12        Russian  Mikhail Aleksandrovich Vrubel (Russian: Михаи́...   \n",
       "13        Spanish  Pablo Ruiz Picasso (; Spanish: [ˈpaβlo piˈkaso...   \n",
       "14        Flemish  Sir Peter Paul Rubens (; Dutch: [ˈrybə(n)s]; 2...   \n",
       "15         French  Pierre-Auguste Renoir, commonly known as Augus...   \n",
       "16        Spanish  Francisco José de Goya y Lucientes (; Spanish:...   \n",
       "17        Mexican  Frida Kahlo de Rivera (Spanish pronunciation: ...   \n",
       "18  Spanish,Greek  Doménikos Theotokópoulos (Greek: Δομήνικος Θεο...   \n",
       "19         German  Albrecht Dürer (; German: [ˈʔalbʁɛçt ˈdyːʁɐ]; ...   \n",
       "\n",
       "                                            wikipedia  paintings  \n",
       "0      http://en.wikipedia.org/wiki/Amedeo_Modigliani        193  \n",
       "1      http://en.wikipedia.org/wiki/Wassily_Kandinsky         88  \n",
       "2           http://en.wikipedia.org/wiki/Diego_Rivera         70  \n",
       "3           http://en.wikipedia.org/wiki/Claude_Monet         73  \n",
       "4          http://en.wikipedia.org/wiki/René_Magritte        194  \n",
       "5          http://en.wikipedia.org/wiki/Salvador_Dalí        139  \n",
       "6          http://en.wikipedia.org/wiki/Édouard_Manet         90  \n",
       "7          http://en.wikipedia.org/wiki/Andrei_Rublev         99  \n",
       "8       http://en.wikipedia.org/wiki/Vincent_van_Gogh        877  \n",
       "9           http://en.wikipedia.org/wiki/Gustav_Klimt        117  \n",
       "10      http://en.wikipedia.org/wiki/Hieronymus_Bosch        137  \n",
       "11      http://en.wikipedia.org/wiki/Kazimir_Malevich        126  \n",
       "12        http://en.wikipedia.org/wiki/Mikhail_Vrubel        171  \n",
       "13         http://en.wikipedia.org/wiki/Pablo_Picasso        439  \n",
       "14     http://en.wikipedia.org/wiki/Peter_Paul_Rubens        141  \n",
       "15  http://en.wikipedia.org/wiki/Pierre-Auguste_Re...        336  \n",
       "16        http://en.wikipedia.org/wiki/Francisco_Goya        291  \n",
       "17           http://en.wikipedia.org/wiki/Frida_Kahlo        120  \n",
       "18              http://en.wikipedia.org/wiki/El_Greco         87  \n",
       "19        http://en.wikipedia.org/wiki/Albrecht_Dürer        328  "
      ]
     },
     "execution_count": 3,
     "metadata": {},
     "output_type": "execute_result"
    }
   ],
   "source": [
    "artists[:20]"
   ]
  },
  {
   "cell_type": "code",
   "execution_count": 4,
   "metadata": {},
   "outputs": [
    {
     "data": {
      "text/plain": [
       "Impressionism                              4\n",
       "Northern Renaissance                       4\n",
       "Baroque                                    4\n",
       "Post-Impressionism                         4\n",
       "High Renaissance                           3\n",
       "Romanticism                                3\n",
       "Surrealism                                 2\n",
       "Impressionism,Post-Impressionism           2\n",
       "Primitivism                                2\n",
       "Pop Art                                    1\n",
       "Surrealism,Impressionism                   1\n",
       "Symbolism,Expressionism                    1\n",
       "Realism                                    1\n",
       "Byzantine Art                              1\n",
       "Symbolism,Art Nouveau                      1\n",
       "Cubism                                     1\n",
       "Expressionism,Abstractionism               1\n",
       "Abstract Expressionism                     1\n",
       "Expressionism,Abstractionism,Surrealism    1\n",
       "Symbolism                                  1\n",
       "Expressionism                              1\n",
       "Neoplasticism                              1\n",
       "Social Realism,Muralism                    1\n",
       "High Renaissance,Mannerism                 1\n",
       "Proto Renaissance                          1\n",
       "Symbolism,Post-Impressionism               1\n",
       "Early Renaissance                          1\n",
       "Mannerism                                  1\n",
       "Primitivism,Surrealism                     1\n",
       "Suprematism                                1\n",
       "Realism,Impressionism                      1\n",
       "Name: genre, dtype: int64"
      ]
     },
     "execution_count": 4,
     "metadata": {},
     "output_type": "execute_result"
    }
   ],
   "source": [
    "artists['genre'].value_counts()"
   ]
  },
  {
   "cell_type": "code",
   "execution_count": 5,
   "metadata": {},
   "outputs": [
    {
     "data": {
      "text/plain": [
       "French                      13\n",
       "Italian                      8\n",
       "Spanish                      5\n",
       "Dutch                        4\n",
       "Russian                      4\n",
       "Flemish                      3\n",
       "American                     2\n",
       "Mexican                      2\n",
       "Austrian                     1\n",
       "French,Jewish,Belarusian     1\n",
       "German,Swiss                 1\n",
       "Norwegian                    1\n",
       "British                      1\n",
       "French,British               1\n",
       "Spanish,Greek                1\n",
       "Belgian                      1\n",
       "German                       1\n",
       "Name: nationality, dtype: int64"
      ]
     },
     "execution_count": 5,
     "metadata": {},
     "output_type": "execute_result"
    }
   ],
   "source": [
    "artists['nationality'].value_counts()"
   ]
  },
  {
   "cell_type": "code",
   "execution_count": 6,
   "metadata": {},
   "outputs": [
    {
     "data": {
      "text/plain": [
       "(50, 8)"
      ]
     },
     "execution_count": 6,
     "metadata": {},
     "output_type": "execute_result"
    }
   ],
   "source": [
    "np.shape(artists)"
   ]
  },
  {
   "cell_type": "code",
   "execution_count": 7,
   "metadata": {},
   "outputs": [
    {
     "data": {
      "text/html": [
       "<div>\n",
       "<style scoped>\n",
       "    .dataframe tbody tr th:only-of-type {\n",
       "        vertical-align: middle;\n",
       "    }\n",
       "\n",
       "    .dataframe tbody tr th {\n",
       "        vertical-align: top;\n",
       "    }\n",
       "\n",
       "    .dataframe thead th {\n",
       "        text-align: right;\n",
       "    }\n",
       "</style>\n",
       "<table border=\"1\" class=\"dataframe\">\n",
       "  <thead>\n",
       "    <tr style=\"text-align: right;\">\n",
       "      <th></th>\n",
       "      <th>id</th>\n",
       "      <th>name</th>\n",
       "      <th>years</th>\n",
       "      <th>genre</th>\n",
       "      <th>nationality</th>\n",
       "      <th>bio</th>\n",
       "      <th>wikipedia</th>\n",
       "      <th>paintings</th>\n",
       "    </tr>\n",
       "  </thead>\n",
       "  <tbody>\n",
       "    <tr>\n",
       "      <th>8</th>\n",
       "      <td>8</td>\n",
       "      <td>Vincent van Gogh</td>\n",
       "      <td>1853 – 1890</td>\n",
       "      <td>Post-Impressionism</td>\n",
       "      <td>Dutch</td>\n",
       "      <td>Vincent Willem van Gogh (Dutch: [ˈvɪnsɛnt ˈʋɪl...</td>\n",
       "      <td>http://en.wikipedia.org/wiki/Vincent_van_Gogh</td>\n",
       "      <td>877</td>\n",
       "    </tr>\n",
       "    <tr>\n",
       "      <th>30</th>\n",
       "      <td>30</td>\n",
       "      <td>Edgar Degas</td>\n",
       "      <td>1834 - 1917</td>\n",
       "      <td>Impressionism</td>\n",
       "      <td>French</td>\n",
       "      <td>Edgar Degas (US:  or UK: ; born Hilaire-Germai...</td>\n",
       "      <td>http://en.wikipedia.org/wiki/Edgar_Degas</td>\n",
       "      <td>702</td>\n",
       "    </tr>\n",
       "    <tr>\n",
       "      <th>13</th>\n",
       "      <td>13</td>\n",
       "      <td>Pablo Picasso</td>\n",
       "      <td>1881 - 1973</td>\n",
       "      <td>Cubism</td>\n",
       "      <td>Spanish</td>\n",
       "      <td>Pablo Ruiz Picasso (; Spanish: [ˈpaβlo piˈkaso...</td>\n",
       "      <td>http://en.wikipedia.org/wiki/Pablo_Picasso</td>\n",
       "      <td>439</td>\n",
       "    </tr>\n",
       "    <tr>\n",
       "      <th>15</th>\n",
       "      <td>15</td>\n",
       "      <td>Pierre-Auguste Renoir</td>\n",
       "      <td>1841 - 1919</td>\n",
       "      <td>Impressionism</td>\n",
       "      <td>French</td>\n",
       "      <td>Pierre-Auguste Renoir, commonly known as Augus...</td>\n",
       "      <td>http://en.wikipedia.org/wiki/Pierre-Auguste_Re...</td>\n",
       "      <td>336</td>\n",
       "    </tr>\n",
       "    <tr>\n",
       "      <th>19</th>\n",
       "      <td>19</td>\n",
       "      <td>Albrecht Dürer</td>\n",
       "      <td>1471 - 1528</td>\n",
       "      <td>Northern Renaissance</td>\n",
       "      <td>German</td>\n",
       "      <td>Albrecht Dürer (; German: [ˈʔalbʁɛçt ˈdyːʁɐ]; ...</td>\n",
       "      <td>http://en.wikipedia.org/wiki/Albrecht_Dürer</td>\n",
       "      <td>328</td>\n",
       "    </tr>\n",
       "  </tbody>\n",
       "</table>\n",
       "</div>"
      ],
      "text/plain": [
       "    id                   name        years                 genre nationality  \\\n",
       "8    8       Vincent van Gogh  1853 – 1890    Post-Impressionism       Dutch   \n",
       "30  30            Edgar Degas  1834 - 1917         Impressionism      French   \n",
       "13  13          Pablo Picasso  1881 - 1973                Cubism     Spanish   \n",
       "15  15  Pierre-Auguste Renoir  1841 - 1919         Impressionism      French   \n",
       "19  19         Albrecht Dürer  1471 - 1528  Northern Renaissance      German   \n",
       "\n",
       "                                                  bio  \\\n",
       "8   Vincent Willem van Gogh (Dutch: [ˈvɪnsɛnt ˈʋɪl...   \n",
       "30  Edgar Degas (US:  or UK: ; born Hilaire-Germai...   \n",
       "13  Pablo Ruiz Picasso (; Spanish: [ˈpaβlo piˈkaso...   \n",
       "15  Pierre-Auguste Renoir, commonly known as Augus...   \n",
       "19  Albrecht Dürer (; German: [ˈʔalbʁɛçt ˈdyːʁɐ]; ...   \n",
       "\n",
       "                                            wikipedia  paintings  \n",
       "8       http://en.wikipedia.org/wiki/Vincent_van_Gogh        877  \n",
       "30           http://en.wikipedia.org/wiki/Edgar_Degas        702  \n",
       "13         http://en.wikipedia.org/wiki/Pablo_Picasso        439  \n",
       "15  http://en.wikipedia.org/wiki/Pierre-Auguste_Re...        336  \n",
       "19        http://en.wikipedia.org/wiki/Albrecht_Dürer        328  "
      ]
     },
     "execution_count": 7,
     "metadata": {},
     "output_type": "execute_result"
    }
   ],
   "source": [
    "artists_n = artists.sort_values(by='paintings',ascending=False)\n",
    "artists_n.head()"
   ]
  },
  {
   "cell_type": "code",
   "execution_count": 8,
   "metadata": {},
   "outputs": [
    {
     "data": {
      "text/html": [
       "<div>\n",
       "<style scoped>\n",
       "    .dataframe tbody tr th:only-of-type {\n",
       "        vertical-align: middle;\n",
       "    }\n",
       "\n",
       "    .dataframe tbody tr th {\n",
       "        vertical-align: top;\n",
       "    }\n",
       "\n",
       "    .dataframe thead th {\n",
       "        text-align: right;\n",
       "    }\n",
       "</style>\n",
       "<table border=\"1\" class=\"dataframe\">\n",
       "  <thead>\n",
       "    <tr style=\"text-align: right;\">\n",
       "      <th></th>\n",
       "      <th>id</th>\n",
       "      <th>name</th>\n",
       "      <th>years</th>\n",
       "      <th>genre</th>\n",
       "      <th>nationality</th>\n",
       "      <th>bio</th>\n",
       "      <th>wikipedia</th>\n",
       "      <th>paintings</th>\n",
       "    </tr>\n",
       "  </thead>\n",
       "  <tbody>\n",
       "    <tr>\n",
       "      <th>46</th>\n",
       "      <td>46</td>\n",
       "      <td>Paul Gauguin</td>\n",
       "      <td>1848 – 1903</td>\n",
       "      <td>Symbolism,Post-Impressionism</td>\n",
       "      <td>French</td>\n",
       "      <td>Eugène Henri Paul Gauguin (UK: , US: ; French:...</td>\n",
       "      <td>http://en.wikipedia.org/wiki/Paul_Gauguin</td>\n",
       "      <td>311</td>\n",
       "    </tr>\n",
       "    <tr>\n",
       "      <th>16</th>\n",
       "      <td>16</td>\n",
       "      <td>Francisco Goya</td>\n",
       "      <td>1746 - 1828</td>\n",
       "      <td>Romanticism</td>\n",
       "      <td>Spanish</td>\n",
       "      <td>Francisco José de Goya y Lucientes (; Spanish:...</td>\n",
       "      <td>http://en.wikipedia.org/wiki/Francisco_Goya</td>\n",
       "      <td>291</td>\n",
       "    </tr>\n",
       "    <tr>\n",
       "      <th>31</th>\n",
       "      <td>31</td>\n",
       "      <td>Rembrandt</td>\n",
       "      <td>1606 - 1669</td>\n",
       "      <td>Baroque</td>\n",
       "      <td>Dutch</td>\n",
       "      <td>Rembrandt Harmenszoon van Rijn (; Dutch: [ˈrɛm...</td>\n",
       "      <td>http://en.wikipedia.org/wiki/Rembrandt</td>\n",
       "      <td>262</td>\n",
       "    </tr>\n",
       "    <tr>\n",
       "      <th>20</th>\n",
       "      <td>20</td>\n",
       "      <td>Alfred Sisley</td>\n",
       "      <td>1839 - 1899</td>\n",
       "      <td>Impressionism</td>\n",
       "      <td>French,British</td>\n",
       "      <td>Alfred Sisley (; French: [sislɛ]; 30 October 1...</td>\n",
       "      <td>http://en.wikipedia.org/wiki/Alfred_Sisley</td>\n",
       "      <td>259</td>\n",
       "    </tr>\n",
       "    <tr>\n",
       "      <th>32</th>\n",
       "      <td>32</td>\n",
       "      <td>Titian</td>\n",
       "      <td>1488 - 1576</td>\n",
       "      <td>High Renaissance,Mannerism</td>\n",
       "      <td>Italian</td>\n",
       "      <td>Tiziano Vecelli or Tiziano Vecellio (pronounce...</td>\n",
       "      <td>http://en.wikipedia.org/wiki/Titian</td>\n",
       "      <td>255</td>\n",
       "    </tr>\n",
       "  </tbody>\n",
       "</table>\n",
       "</div>"
      ],
      "text/plain": [
       "    id            name        years                         genre  \\\n",
       "46  46    Paul Gauguin  1848 – 1903  Symbolism,Post-Impressionism   \n",
       "16  16  Francisco Goya  1746 - 1828                   Romanticism   \n",
       "31  31       Rembrandt  1606 - 1669                       Baroque   \n",
       "20  20   Alfred Sisley  1839 - 1899                 Impressionism   \n",
       "32  32          Titian  1488 - 1576    High Renaissance,Mannerism   \n",
       "\n",
       "       nationality                                                bio  \\\n",
       "46          French  Eugène Henri Paul Gauguin (UK: , US: ; French:...   \n",
       "16         Spanish  Francisco José de Goya y Lucientes (; Spanish:...   \n",
       "31           Dutch  Rembrandt Harmenszoon van Rijn (; Dutch: [ˈrɛm...   \n",
       "20  French,British  Alfred Sisley (; French: [sislɛ]; 30 October 1...   \n",
       "32         Italian  Tiziano Vecelli or Tiziano Vecellio (pronounce...   \n",
       "\n",
       "                                      wikipedia  paintings  \n",
       "46    http://en.wikipedia.org/wiki/Paul_Gauguin        311  \n",
       "16  http://en.wikipedia.org/wiki/Francisco_Goya        291  \n",
       "31       http://en.wikipedia.org/wiki/Rembrandt        262  \n",
       "20   http://en.wikipedia.org/wiki/Alfred_Sisley        259  \n",
       "32          http://en.wikipedia.org/wiki/Titian        255  "
      ]
     },
     "execution_count": 8,
     "metadata": {},
     "output_type": "execute_result"
    }
   ],
   "source": [
    "artists_n[5:10]"
   ]
  },
  {
   "cell_type": "code",
   "execution_count": 9,
   "metadata": {},
   "outputs": [
    {
     "data": {
      "text/plain": [
       "(Text(0.5, 0, 'Artist id'), Text(0, 0.5, 'N'))"
      ]
     },
     "execution_count": 9,
     "metadata": {},
     "output_type": "execute_result"
    },
    {
     "data": {
      "image/png": "[encoded data removed]",
      "text/plain": [
       "<Figure size 432x288 with 1 Axes>"
      ]
     },
     "metadata": {
      "needs_background": "light"
     },
     "output_type": "display_data"
    }
   ],
   "source": [
    "artists['paintings'].plot(kind='bar')\n",
    "plt.xlabel('Artist id'),plt.ylabel('N')"
   ]
  },
  {
   "cell_type": "code",
   "execution_count": 10,
   "metadata": {},
   "outputs": [],
   "source": [
    "N_artists = np.zeros((np.shape(dir_artists)))\n",
    "idc_artists = []\n",
    "for idx_artist,artist in enumerate(dir_artists):\n",
    "    N_artists[idx_artist] = len(os.listdir(os.path.join(dir_images,artist)))\n",
    "    idc_artists.append(idx_artist)\n",
    "idx_sort = np.argsort(-N_artists)"
   ]
  },
  {
   "cell_type": "code",
   "execution_count": 11,
   "metadata": {},
   "outputs": [
    {
     "name": "stdout",
     "output_type": "stream",
     "text": [
      "['Vincent_van_Gogh' 'Edgar_Degas' 'Pablo_Picasso' 'Pierre-Auguste_Renoir'\n",
      " 'Albrecht_Durer' 'Paul_Gauguin' 'Francisco_Goya' 'Rembrandt'\n",
      " 'Alfred_Sisley' 'Titian' 'Marc_Chagall' 'Rene_Magritte'\n",
      " 'Amedeo_Modigliani' 'Paul_Klee' 'Henri_Matisse' 'Andy_Warhol'\n",
      " 'Mikhail_Vrubel' 'Sandro_Botticelli' 'Leonardo_da_Vinci'\n",
      " 'Peter_Paul_Rubens' 'Salvador_Dali' 'Hieronymus_Bosch' 'Pieter_Bruegel'\n",
      " 'Diego_Velazquez' 'Kazimir_Malevich' 'Frida_Kahlo' 'Giotto_di_Bondone'\n",
      " 'Gustav_Klimt' 'Raphael' 'Joan_Miro' 'Andrei_Rublev' 'Camille_Pissarro'\n",
      " 'Edouard_Manet' 'Vasiliy_Kandinskiy' 'El_Greco' 'Piet_Mondrian'\n",
      " 'Henri_de_Toulouse-Lautrec' 'Jan_van_Eyck' 'Claude_Monet' 'Diego_Rivera'\n",
      " 'Henri_Rousseau' 'Edvard_Munch' 'William_Turner' 'Gustave_Courbet'\n",
      " 'Caravaggio' 'Michelangelo' 'Paul_Cezanne' 'Georges_Seurat'\n",
      " 'Eugene_Delacroix' 'Jackson_Pollock']\n",
      "[878. 703. 440. 337. 329. 312. 292. 263. 260. 256. 240. 195. 194. 189.\n",
      " 187. 182. 172. 165. 144. 142. 140. 138. 135. 129. 127. 121. 120. 118.\n",
      " 110. 103. 100.  92.  91.  89.  88.  85.  82.  82.  74.  71.  71.  68.\n",
      "  67.  60.  56.  50.  48.  44.  32.  25.]\n"
     ]
    }
   ],
   "source": [
    "sort_artists = np.array(dir_artists)[idx_sort]\n",
    "sort_N = N_artists[idx_sort]\n",
    "print(sort_artists)\n",
    "print(sort_N)"
   ]
  },
  {
   "cell_type": "code",
   "execution_count": 12,
   "metadata": {},
   "outputs": [
    {
     "name": "stdout",
     "output_type": "stream",
     "text": [
      "[('Albrecht_Durer', 0), ('Alfred_Sisley', 1), ('Amedeo_Modigliani', 2), ('Andrei_Rublev', 3), ('Andy_Warhol', 4), ('Camille_Pissarro', 5), ('Caravaggio', 6), ('Claude_Monet', 7), ('Diego_Rivera', 8), ('Diego_Velazquez', 9), ('Edgar_Degas', 10), ('Edouard_Manet', 11), ('Edvard_Munch', 12), ('El_Greco', 13), ('Eugene_Delacroix', 14), ('Francisco_Goya', 15), ('Frida_Kahlo', 16), ('Georges_Seurat', 17), ('Giotto_di_Bondone', 18), ('Gustave_Courbet', 19), ('Gustav_Klimt', 20), ('Henri_de_Toulouse-Lautrec', 21), ('Henri_Matisse', 22), ('Henri_Rousseau', 23), ('Hieronymus_Bosch', 24), ('Jackson_Pollock', 25), ('Jan_van_Eyck', 26), ('Joan_Miro', 27), ('Kazimir_Malevich', 28), ('Leonardo_da_Vinci', 29), ('Marc_Chagall', 30), ('Michelangelo', 31), ('Mikhail_Vrubel', 32), ('Pablo_Picasso', 33), ('Paul_Cezanne', 34), ('Paul_Gauguin', 35), ('Paul_Klee', 36), ('Peter_Paul_Rubens', 37), ('Pierre-Auguste_Renoir', 38), ('Pieter_Bruegel', 39), ('Piet_Mondrian', 40), ('Raphael', 41), ('Rembrandt', 42), ('Rene_Magritte', 43), ('Salvador_Dali', 44), ('Sandro_Botticelli', 45), ('Titian', 46), ('Vasiliy_Kandinskiy', 47), ('Vincent_van_Gogh', 48), ('William_Turner', 49)]\n"
     ]
    },
    {
     "data": {
      "text/plain": [
       "Text(0.5, 1.0, 'Spread of paintings per artist')"
      ]
     },
     "execution_count": 12,
     "metadata": {},
     "output_type": "execute_result"
    },
    {
     "data": {
      "image/png": "[encoded data removed]",
      "text/plain": [
       "<Figure size 432x288 with 1 Axes>"
      ]
     },
     "metadata": {
      "needs_background": "light"
     },
     "output_type": "display_data"
    }
   ],
   "source": [
    "x_data = list(zip(dir_artists,idc_artists))\n",
    "print(x_data)\n",
    "plt.bar(np.arange(0,len(dir_artists),1),N_artists)\n",
    "plt.xlabel('Artist index'), plt.ylabel('Number of paintings in dataset')\n",
    "plt.title('Spread of paintings per artist')\n"
   ]
  },
  {
   "cell_type": "code",
   "execution_count": 13,
   "metadata": {},
   "outputs": [
    {
     "name": "stdout",
     "output_type": "stream",
     "text": [
      "(914, 902, 3)\n",
      "(724, 1280, 3)\n"
     ]
    },
    {
     "data": {
      "text/plain": [
       "Text(0.5, 0.98, 'Pieter_Bruegel')"
      ]
     },
     "execution_count": 13,
     "metadata": {},
     "output_type": "execute_result"
    },
    {
     "data": {
      "image/png": "[encoded data removed]",
      "text/plain": [
       "<Figure size 432x288 with 2 Axes>"
      ]
     },
     "metadata": {
      "needs_background": "light"
     },
     "output_type": "display_data"
    }
   ],
   "source": [
    "rand_dir = np.random.choice(dir_artists)\n",
    "n=2\n",
    "rand_paint_dir = np.random.choice(os.listdir(os.path.join(dir_images,rand_dir)),n)\n",
    "fig,axes = plt.subplots(1,n)\n",
    "\n",
    "for i in range(n):\n",
    "    rand_painting = os.path.join(dir_images,rand_dir,rand_paint_dir[i])\n",
    "    im = plt.imread(rand_painting)\n",
    "    axes[i].imshow(im)\n",
    "    print(np.shape(im))\n",
    "fig.suptitle(rand_dir)"
   ]
  },
  {
   "cell_type": "code",
   "execution_count": 15,
   "metadata": {},
   "outputs": [
    {
     "name": "stdout",
     "output_type": "stream",
     "text": [
      "minimal image size: [1024, 10000]\n",
      "minimal image size: [1024, 720]\n",
      "maximal image size: [2048, -10000]\n",
      "maximal image size: [2048, 1494]\n",
      "minimal image size: [1024, 670]\n",
      "minimal image size: [768, 670]\n",
      "minimal image size: [768, 487]\n",
      "maximal image size: [2048, 1517]\n",
      "maximal image size: [2048, 1576]\n",
      "maximal image size: [2048, 2094]\n",
      "maximal image size: [2048, 2446]\n",
      "minimal image size: [553, 487]\n",
      "minimal image size: [553, 450]\n",
      "maximal image size: [2048, 2560]\n",
      "minimal image size: [457, 450]\n",
      "minimal image size: [457, 402]\n",
      "minimal image size: [440, 402]\n",
      "minimal image size: [399, 402]\n",
      "minimal image size: [399, 290]\n",
      "minimal image size: [268, 290]\n",
      "minimal image size: [268, 271]\n",
      "minimal image size: [268, 246]\n",
      "minimal image size: [268, 206]\n",
      "minimal image size: [268, 204]\n",
      "minimal image size: [239, 204]\n",
      "maximal image size: [2551, 2560]\n",
      "maximal image size: [2619, 2560]\n",
      "maximal image size: [2659, 2560]\n",
      "maximal image size: [2785, 2560]\n",
      "maximal image size: [3371, 2560]\n",
      "maximal image size: [3371, 3176]\n",
      "maximal image size: [3371, 4096]\n",
      "maximal image size: [3391, 4096]\n",
      "minimal image size: [234, 204]\n",
      "minimal image size: [226, 204]\n",
      "maximal image size: [3826, 4096]\n"
     ]
    }
   ],
   "source": [
    "#Explore image size variation, find out the boundaries (minimal and maximal image size)\n",
    "\n",
    "min_shape = [10000,10000]\n",
    "max_shape = [-10000,-10000]\n",
    "for dir_artist in dir_artists:\n",
    "    for dir_im in os.listdir(os.path.join(dir_images,dir_artist)):\n",
    "        if not dir_im == 'resized':\n",
    "            im = plt.imread(os.path.join(dir_images,dir_artist,dir_im))\n",
    "            if np.shape(im)[0] < min_shape[0]:\n",
    "                min_shape[0] = np.shape(im)[0]\n",
    "                print(\"minimal image size: {mins}\".format(mins=min_shape))\n",
    "            elif np.shape(im)[0] > max_shape[0]:\n",
    "                max_shape[0] = np.shape(im)[0]\n",
    "                print(\"maximal image size: {maxs}\".format(maxs=max_shape))\n",
    "            if np.shape(im)[1] < min_shape[1]:\n",
    "                min_shape[1] = np.shape(im)[1]\n",
    "                print(\"minimal image size: {mins}\".format(mins=min_shape))\n",
    "            elif np.shape(im)[1] > max_shape[1]:\n",
    "                max_shape[1] = np.shape(im)[1]\n",
    "                print(\"maximal image size: {maxs}\".format(maxs=max_shape))\n",
    "            \n",
    "            \n",
    "            \n"
   ]
  },
  {
   "cell_type": "markdown",
   "metadata": {},
   "source": [
    "# Pre-Processing"
   ]
  },
  {
   "cell_type": "code",
   "execution_count": 18,
   "metadata": {},
   "outputs": [],
   "source": [
    "n_labels = len(dir_artists)"
   ]
  },
  {
   "cell_type": "code",
   "execution_count": 23,
   "metadata": {},
   "outputs": [
    {
     "name": "stdout",
     "output_type": "stream",
     "text": [
      "Found 6779 images belonging to 50 classes.\n",
      "Found 1667 images belonging to 50 classes.\n"
     ]
    }
   ],
   "source": [
    "#TODO explore data augmentation\n",
    "train_imgen = keras.preprocessing.image.ImageDataGenerator(validation_split=0.2)\n",
    "\n",
    "train_generator = train_imgen.flow_from_directory(\n",
    "        dir_images,\n",
    "        target_size=min_shape,\n",
    "        color_mode=\"rgb\",\n",
    "        batch_size=32,\n",
    "        class_mode='categorical',\n",
    "        subset='training',\n",
    "        shuffle=True,\n",
    "        classes=dir_artists)\n",
    "\n",
    "val_generator = train_imgen.flow_from_directory(\n",
    "        directory=dir_images,\n",
    "        target_size=min_shape,\n",
    "        color_mode=\"rgb\",\n",
    "        batch_size=32,\n",
    "        class_mode='categorical',\n",
    "        subset='validation',\n",
    "        shuffle=True,\n",
    "        classes=dir_artists)"
   ]
  },
  {
   "cell_type": "code",
   "execution_count": null,
   "metadata": {},
   "outputs": [],
   "source": []
  },
  {
   "cell_type": "markdown",
   "metadata": {},
   "source": [
    "# CNN"
   ]
  },
  {
   "cell_type": "code",
   "execution_count": null,
   "metadata": {},
   "outputs": [],
   "source": [
    "#model\n",
    "vgg19 = keras.applications.vgg19.VGG19(include_top=False, weights='imagenet', input_tensor=None, input_shape=(min_shape[0],min_shape[1],3), pooling=None, classes=1000)\n",
    "\n",
    "#TODO finetuning\n",
    "#for layer in vgg19.layers:\n",
    "#    layer.trainable = True"
   ]
  },
  {
   "cell_type": "code",
   "execution_count": null,
   "metadata": {},
   "outputs": [],
   "source": [
    "model = keras.models.Model(inputs=vgg19.input, outputs=output)"
   ]
  },
  {
   "cell_type": "code",
   "execution_count": null,
   "metadata": {},
   "outputs": [],
   "source": []
  }
 ],
 "metadata": {
  "kernelspec": {
   "display_name": "Python 3",
   "language": "python",
   "name": "python3"
  },
  "language_info": {
   "codemirror_mode": {
    "name": "ipython",
    "version": 3
   },
   "file_extension": ".py",
   "mimetype": "text/x-python",
   "name": "python",
   "nbconvert_exporter": "python",
   "pygments_lexer": "ipython3",
   "version": "3.7.0"
  }
 },
 "nbformat": 4,
 "nbformat_minor": 2
}
